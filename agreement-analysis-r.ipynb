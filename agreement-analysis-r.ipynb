{
 "cells": [
  {
   "cell_type": "code",
   "execution_count": 1,
   "id": "precise-mirror",
   "metadata": {},
   "outputs": [
    {
     "name": "stderr",
     "output_type": "stream",
     "text": [
      "\n",
      "Attaching package: 'dplyr'\n",
      "\n",
      "\n",
      "The following objects are masked from 'package:stats':\n",
      "\n",
      "    filter, lag\n",
      "\n",
      "\n",
      "The following objects are masked from 'package:base':\n",
      "\n",
      "    intersect, setdiff, setequal, union\n",
      "\n",
      "\n",
      "Loading required package: gee\n",
      "\n",
      "Loading required package: PropCIs\n",
      "\n",
      "Loading required package: grid\n",
      "\n"
     ]
    }
   ],
   "source": [
    "library(readxl)\n",
    "library(dplyr)\n",
    "library(DTComPair)\n",
    "library(summarytools)\n",
    "library(vcd)"
   ]
  },
  {
   "cell_type": "code",
   "execution_count": 2,
   "id": "9e158a83",
   "metadata": {},
   "outputs": [
    {
     "data": {
      "text/plain": [
       "R version 4.1.2 (2021-11-01)\n",
       "Platform: x86_64-w64-mingw32/x64 (64-bit)\n",
       "Running under: Windows 10 x64 (build 19042)\n",
       "\n",
       "Matrix products: default\n",
       "\n",
       "locale:\n",
       "[1] LC_COLLATE=English_United Kingdom.1252 \n",
       "[2] LC_CTYPE=English_United Kingdom.1252   \n",
       "[3] LC_MONETARY=English_United Kingdom.1252\n",
       "[4] LC_NUMERIC=C                           \n",
       "[5] LC_TIME=English_United Kingdom.1252    \n",
       "\n",
       "attached base packages:\n",
       "[1] grid      stats     graphics  grDevices utils     datasets  methods  \n",
       "[8] base     \n",
       "\n",
       "other attached packages:\n",
       "[1] vcd_1.4-8          summarytools_1.0.0 DTComPair_1.0.3    PropCIs_0.3-0     \n",
       "[5] gee_4.13-20        dplyr_1.0.7        readxl_1.3.1      \n",
       "\n",
       "loaded via a namespace (and not attached):\n",
       " [1] pbdZMQ_0.3-6       zoo_1.8-9          tidyselect_1.1.1   repr_1.1.3        \n",
       " [5] purrr_0.3.4        pander_0.6.4       lattice_0.20-45    tcltk_4.1.2       \n",
       " [9] colorspace_2.0-2   vctrs_0.3.8        generics_0.1.0     htmltools_0.5.2   \n",
       "[13] base64enc_0.1-3    utf8_1.2.2         rlang_0.4.12       pillar_1.6.4      \n",
       "[17] glue_1.6.0         DBI_1.1.1          pryr_0.1.5         uuid_1.0-3        \n",
       "[21] matrixStats_0.60.1 lifecycle_1.0.1    plyr_1.8.6         stringr_1.4.0     \n",
       "[25] cellranger_1.1.0   codetools_0.2-18   evaluate_0.14      fastmap_1.1.0     \n",
       "[29] lmtest_0.9-38      fansi_0.5.0        IRdisplay_1.0      Rcpp_1.0.7        \n",
       "[33] backports_1.4.1    checkmate_2.0.0    IRkernel_1.2       magick_2.7.3      \n",
       "[37] jsonlite_1.7.2     rapportools_1.0    digest_0.6.29      stringi_1.7.4     \n",
       "[41] tools_4.1.2        magrittr_2.0.1     tibble_3.1.6       crayon_1.4.2      \n",
       "[45] tidyr_1.1.3        pkgconfig_2.0.3    ellipsis_0.3.2     MASS_7.3-54       \n",
       "[49] lubridate_1.7.10   assertthat_0.2.1   R6_2.5.1           compiler_4.1.2    "
      ]
     },
     "metadata": {},
     "output_type": "display_data"
    }
   ],
   "source": [
    "sessionInfo()"
   ]
  },
  {
   "cell_type": "markdown",
   "id": "featured-librarian",
   "metadata": {},
   "source": [
    "# 1. Cohen weighted kappa & inter-rater agreement plots"
   ]
  },
  {
   "cell_type": "markdown",
   "id": "visible-actress",
   "metadata": {},
   "source": [
    "[Weighted Kappa](https://www.datanovia.com/en/lessons/weighted-kappa-in-r-for-two-ordinal-variables/)   \n",
    "[Inter-rater agreement plot](https://www.datanovia.com/en/lessons/inter-rater-agreement-chart-in-r/)"
   ]
  },
  {
   "cell_type": "markdown",
   "id": "dense-april",
   "metadata": {},
   "source": [
    "# 1.1. Non-blinded test vs. Blinded test"
   ]
  },
  {
   "cell_type": "code",
   "execution_count": 2,
   "id": "later-crest",
   "metadata": {},
   "outputs": [],
   "source": [
    "# pT3a as locally advanced\n",
    "\n",
    "my_data <- read_excel(\".data/BIMJF3aLA.xlsx\") \n",
    "# # for analysis with pT3a as not locally advanced \n",
    "# my_data <- read_excel(\".data/BIMJF3aNOLA.xlsx\") "
   ]
  },
  {
   "cell_type": "code",
   "execution_count": 3,
   "id": "considered-alloy",
   "metadata": {},
   "outputs": [
    {
     "data": {
      "text/html": [
       "<style>\n",
       ".list-inline {list-style: none; margin:0; padding: 0}\n",
       ".list-inline>li {display: inline-block}\n",
       ".list-inline>li:not(:last-child)::after {content: \"\\00b7\"; padding: 0 .5ex}\n",
       "</style>\n",
       "<ol class=list-inline><li>'TEST1NB'</li><li>'TEST2BL'</li><li>'TEST3HP'</li><li>'LATEST1'</li><li>'LATEST2'</li><li>'LATEST3'</li></ol>\n"
      ],
      "text/latex": [
       "\\begin{enumerate*}\n",
       "\\item 'TEST1NB'\n",
       "\\item 'TEST2BL'\n",
       "\\item 'TEST3HP'\n",
       "\\item 'LATEST1'\n",
       "\\item 'LATEST2'\n",
       "\\item 'LATEST3'\n",
       "\\end{enumerate*}\n"
      ],
      "text/markdown": [
       "1. 'TEST1NB'\n",
       "2. 'TEST2BL'\n",
       "3. 'TEST3HP'\n",
       "4. 'LATEST1'\n",
       "5. 'LATEST2'\n",
       "6. 'LATEST3'\n",
       "\n",
       "\n"
      ],
      "text/plain": [
       "[1] \"TEST1NB\" \"TEST2BL\" \"TEST3HP\" \"LATEST1\" \"LATEST2\" \"LATEST3\""
      ]
     },
     "metadata": {},
     "output_type": "display_data"
    }
   ],
   "source": [
    "colnames(my_data)"
   ]
  },
  {
   "cell_type": "code",
   "execution_count": 4,
   "id": "raising-bibliography",
   "metadata": {},
   "outputs": [],
   "source": [
    "# Not blinded vs. Blinded\n",
    "notbl_bl <- with(my_data, ctable(TEST1NB, TEST2BL))$cross_table[1:4,1:4]"
   ]
  },
  {
   "cell_type": "code",
   "execution_count": 5,
   "id": "worth-closure",
   "metadata": {},
   "outputs": [
    {
     "data": {
      "text/plain": [
       "          Blinded\n",
       "Nonblinded T0-3a T3b T4a T4b\n",
       "     T0-3a    99   5   4   0\n",
       "     T3b       8   4   2   0\n",
       "     T4a       2   0   4   2\n",
       "     T4b       0   0   0   4"
      ]
     },
     "metadata": {},
     "output_type": "display_data"
    }
   ],
   "source": [
    "dimnames(notbl_bl) <- list(\n",
    "  Nonblinded = c(\"T0-3a\", \"T3b\", \"T4a\", \"T4b\"),\n",
    "  Blinded = c(\"T0-3a\", \"T3b\", \"T4a\", \"T4b\")\n",
    ")\n",
    "notbl_bl"
   ]
  },
  {
   "cell_type": "code",
   "execution_count": 6,
   "id": "meaningful-healing",
   "metadata": {},
   "outputs": [
    {
     "data": {
      "text/plain": [
       "            value     ASE     z  Pr(>|z|)\n",
       "Unweighted 0.4824 0.08596 5.611 2.007e-08\n",
       "Weighted   0.6188 0.08193 7.553 4.252e-14\n",
       "\n",
       "Weights:\n",
       "          [,1]      [,2]      [,3]      [,4]\n",
       "[1,] 1.0000000 0.6666667 0.3333333 0.0000000\n",
       "[2,] 0.6666667 1.0000000 0.6666667 0.3333333\n",
       "[3,] 0.3333333 0.6666667 1.0000000 0.6666667\n",
       "[4,] 0.0000000 0.3333333 0.6666667 1.0000000"
      ]
     },
     "metadata": {},
     "output_type": "display_data"
    }
   ],
   "source": [
    "# Computing kappa\n",
    "res.k <- Kappa(notbl_bl, weights='Equal-Spacing')\n",
    "summary(res.k)"
   ]
  },
  {
   "cell_type": "markdown",
   "id": "material-delay",
   "metadata": {},
   "source": [
    "### Confidence intervals"
   ]
  },
  {
   "cell_type": "code",
   "execution_count": 7,
   "id": "white-whale",
   "metadata": {},
   "outputs": [
    {
     "data": {
      "text/html": [
       "<table class=\"dataframe\">\n",
       "<caption>A matrix: 2 × 2 of type dbl</caption>\n",
       "<thead>\n",
       "\t<tr><th></th><th scope=col>lwr</th><th scope=col>upr</th></tr>\n",
       "</thead>\n",
       "<tbody>\n",
       "\t<tr><th scope=row>Unweighted</th><td>0.3138832</td><td>0.6508464</td></tr>\n",
       "\t<tr><th scope=row>Weighted</th><td>0.4582224</td><td>0.7793683</td></tr>\n",
       "</tbody>\n",
       "</table>\n"
      ],
      "text/latex": [
       "A matrix: 2 × 2 of type dbl\n",
       "\\begin{tabular}{r|ll}\n",
       "  & lwr & upr\\\\\n",
       "\\hline\n",
       "\tUnweighted & 0.3138832 & 0.6508464\\\\\n",
       "\tWeighted & 0.4582224 & 0.7793683\\\\\n",
       "\\end{tabular}\n"
      ],
      "text/markdown": [
       "\n",
       "A matrix: 2 × 2 of type dbl\n",
       "\n",
       "| <!--/--> | lwr | upr |\n",
       "|---|---|---|\n",
       "| Unweighted | 0.3138832 | 0.6508464 |\n",
       "| Weighted | 0.4582224 | 0.7793683 |\n",
       "\n"
      ],
      "text/plain": [
       "            \n",
       "Kappa        lwr       upr      \n",
       "  Unweighted 0.3138832 0.6508464\n",
       "  Weighted   0.4582224 0.7793683"
      ]
     },
     "metadata": {},
     "output_type": "display_data"
    }
   ],
   "source": [
    "confint(res.k)"
   ]
  },
  {
   "cell_type": "code",
   "execution_count": 8,
   "id": "worth-nature",
   "metadata": {},
   "outputs": [
    {
     "data": {
      "text/html": [
       "<strong>png:</strong> 2"
      ],
      "text/latex": [
       "\\textbf{png:} 2"
      ],
      "text/markdown": [
       "**png:** 2"
      ],
      "text/plain": [
       "png \n",
       "  2 "
      ]
     },
     "metadata": {},
     "output_type": "display_data"
    }
   ],
   "source": [
    "options(jupyter.plot_mimetypes = c('image/png', 'image/jpeg', 'image/svg'))\n",
    "png(filename=\"notbl_bl.png\", \n",
    "    width=640, \n",
    "    height=640, \n",
    "    pointsize=12)\n",
    "p <- agreementplot(notbl_bl)\n",
    "dev.off()"
   ]
  },
  {
   "cell_type": "markdown",
   "id": "former-airfare",
   "metadata": {},
   "source": [
    "### B-coefficient (Bandgiwala)"
   ]
  },
  {
   "cell_type": "code",
   "execution_count": 9,
   "id": "numeric-cabin",
   "metadata": {},
   "outputs": [
    {
     "data": {
      "text/html": [
       "<style>\n",
       ".dl-inline {width: auto; margin:0; padding: 0}\n",
       ".dl-inline>dt, .dl-inline>dd {float: none; width: auto; display: inline-block}\n",
       ".dl-inline>dt::after {content: \":\\0020\"; padding-right: .5ex}\n",
       ".dl-inline>dt:not(:first-of-type) {padding-left: .5ex}\n",
       "</style><dl class=dl-inline><dt>Bangdiwala</dt><dd>0.820613231128145</dd><dt>Bangdiwala_Weighted</dt><dd>0.929113666240812</dd></dl>\n"
      ],
      "text/latex": [
       "\\begin{description*}\n",
       "\\item[Bangdiwala] 0.820613231128145\n",
       "\\item[Bangdiwala\\textbackslash{}\\_Weighted] 0.929113666240812\n",
       "\\end{description*}\n"
      ],
      "text/markdown": [
       "Bangdiwala\n",
       ":   0.820613231128145Bangdiwala_Weighted\n",
       ":   0.929113666240812\n",
       "\n"
      ],
      "text/plain": [
       "         Bangdiwala Bangdiwala_Weighted \n",
       "          0.8206132           0.9291137 "
      ]
     },
     "metadata": {},
     "output_type": "display_data"
    }
   ],
   "source": [
    "# Show the Bangdiwala agreement strength statistics\n",
    "unlist(p)[1:2]"
   ]
  },
  {
   "cell_type": "markdown",
   "id": "modern-requirement",
   "metadata": {},
   "source": [
    "## <u> Report example</u>\n",
    "Weighted kappa (kw) with linear weights (Cicchetti and Allison 1971) was computed to assess if there was agreement between two clinical doctors in staging prostate cancer blinded vs unblinded test. 134 participants were enrolled and were classified by each of the two doctors into 4 stages of cancer.\n",
    "\n",
    "There was a statistically significant agreement between the two doctors, kw = 0.61 (95% CI, 0.46 to 0.78), p < 0.0001. The strength of agreement was classified as moderate according to Fleiss et al. (2003)."
   ]
  },
  {
   "cell_type": "markdown",
   "id": "loose-waterproof",
   "metadata": {},
   "source": [
    "# 1.2. Non-blinded vs. pathology"
   ]
  },
  {
   "cell_type": "code",
   "execution_count": 10,
   "id": "industrial-arbor",
   "metadata": {},
   "outputs": [
    {
     "data": {
      "text/plain": [
       "          Pathology\n",
       "Nonblinded T0-3a T3b T4a T4b\n",
       "     T0-3a    93   1  14   0\n",
       "     T3b       6   5   3   0\n",
       "     T4a       1   0   5   2\n",
       "     T4b       0   0   1   3"
      ]
     },
     "metadata": {},
     "output_type": "display_data"
    }
   ],
   "source": [
    "# Not blinded vs. patholohical examination\n",
    "ptm <- my_data\n",
    "ptm$TEST3HP[ptm$TEST3HP == 6] <- 2\n",
    "notbl_ptm <- with(ptm, ctable(TEST1NB, TEST3HP))$cross_table[1:4,1:4]\n",
    "dimnames(notbl_ptm) <- list(\n",
    "  Nonblinded = c(\"T0-3a\", \"T3b\", \"T4a\", \"T4b\"),\n",
    "  Pathology = c(\"T0-3a\", \"T3b\", \"T4a\", \"T4b\")\n",
    ")\n",
    "notbl_ptm"
   ]
  },
  {
   "cell_type": "code",
   "execution_count": 11,
   "id": "developmental-planner",
   "metadata": {},
   "outputs": [
    {
     "data": {
      "text/html": [
       "<dl>\n",
       "\t<dt>$Nonblinded</dt>\n",
       "\t\t<dd><style>\n",
       ".list-inline {list-style: none; margin:0; padding: 0}\n",
       ".list-inline>li {display: inline-block}\n",
       ".list-inline>li:not(:last-child)::after {content: \"\\00b7\"; padding: 0 .5ex}\n",
       "</style>\n",
       "<ol class=list-inline><li>'T0-3a'</li><li>'T3b'</li><li>'T4a'</li><li>'T4b'</li></ol>\n",
       "</dd>\n",
       "\t<dt>$Pathology</dt>\n",
       "\t\t<dd><style>\n",
       ".list-inline {list-style: none; margin:0; padding: 0}\n",
       ".list-inline>li {display: inline-block}\n",
       ".list-inline>li:not(:last-child)::after {content: \"\\00b7\"; padding: 0 .5ex}\n",
       "</style>\n",
       "<ol class=list-inline><li>'T0-3a'</li><li>'T3b'</li><li>'T4a'</li><li>'T4b'</li></ol>\n",
       "</dd>\n",
       "</dl>\n"
      ],
      "text/latex": [
       "\\begin{description}\n",
       "\\item[\\$Nonblinded] \\begin{enumerate*}\n",
       "\\item 'T0-3a'\n",
       "\\item 'T3b'\n",
       "\\item 'T4a'\n",
       "\\item 'T4b'\n",
       "\\end{enumerate*}\n",
       "\n",
       "\\item[\\$Pathology] \\begin{enumerate*}\n",
       "\\item 'T0-3a'\n",
       "\\item 'T3b'\n",
       "\\item 'T4a'\n",
       "\\item 'T4b'\n",
       "\\end{enumerate*}\n",
       "\n",
       "\\end{description}\n"
      ],
      "text/markdown": [
       "$Nonblinded\n",
       ":   1. 'T0-3a'\n",
       "2. 'T3b'\n",
       "3. 'T4a'\n",
       "4. 'T4b'\n",
       "\n",
       "\n",
       "\n",
       "$Pathology\n",
       ":   1. 'T0-3a'\n",
       "2. 'T3b'\n",
       "3. 'T4a'\n",
       "4. 'T4b'\n",
       "\n",
       "\n",
       "\n",
       "\n",
       "\n"
      ],
      "text/plain": [
       "$Nonblinded\n",
       "[1] \"T0-3a\" \"T3b\"   \"T4a\"   \"T4b\"  \n",
       "\n",
       "$Pathology\n",
       "[1] \"T0-3a\" \"T3b\"   \"T4a\"   \"T4b\"  \n"
      ]
     },
     "metadata": {},
     "output_type": "display_data"
    }
   ],
   "source": [
    "dimnames(notbl_ptm)"
   ]
  },
  {
   "cell_type": "code",
   "execution_count": 12,
   "id": "crazy-privilege",
   "metadata": {},
   "outputs": [
    {
     "data": {
      "text/plain": [
       "            value     ASE     z  Pr(>|z|)\n",
       "Unweighted 0.4537 0.07731 5.869 4.396e-09\n",
       "Weighted   0.5248 0.08022 6.543 6.042e-11\n",
       "\n",
       "Weights:\n",
       "          [,1]      [,2]      [,3]      [,4]\n",
       "[1,] 1.0000000 0.6666667 0.3333333 0.0000000\n",
       "[2,] 0.6666667 1.0000000 0.6666667 0.3333333\n",
       "[3,] 0.3333333 0.6666667 1.0000000 0.6666667\n",
       "[4,] 0.0000000 0.3333333 0.6666667 1.0000000"
      ]
     },
     "metadata": {},
     "output_type": "display_data"
    }
   ],
   "source": [
    "# Computing kappa\n",
    "res.k2 <- Kappa(notbl_ptm, weights='Equal-Spacing')\n",
    "summary(res.k2)"
   ]
  },
  {
   "cell_type": "markdown",
   "id": "textile-education",
   "metadata": {},
   "source": [
    "### Confidence intervals"
   ]
  },
  {
   "cell_type": "code",
   "execution_count": 13,
   "id": "stone-manhattan",
   "metadata": {},
   "outputs": [
    {
     "data": {
      "text/html": [
       "<table class=\"dataframe\">\n",
       "<caption>A matrix: 2 × 2 of type dbl</caption>\n",
       "<thead>\n",
       "\t<tr><th></th><th scope=col>lwr</th><th scope=col>upr</th></tr>\n",
       "</thead>\n",
       "<tbody>\n",
       "\t<tr><th scope=row>Unweighted</th><td>0.3021732</td><td>0.6052234</td></tr>\n",
       "\t<tr><th scope=row>Weighted</th><td>0.3676040</td><td>0.6820414</td></tr>\n",
       "</tbody>\n",
       "</table>\n"
      ],
      "text/latex": [
       "A matrix: 2 × 2 of type dbl\n",
       "\\begin{tabular}{r|ll}\n",
       "  & lwr & upr\\\\\n",
       "\\hline\n",
       "\tUnweighted & 0.3021732 & 0.6052234\\\\\n",
       "\tWeighted & 0.3676040 & 0.6820414\\\\\n",
       "\\end{tabular}\n"
      ],
      "text/markdown": [
       "\n",
       "A matrix: 2 × 2 of type dbl\n",
       "\n",
       "| <!--/--> | lwr | upr |\n",
       "|---|---|---|\n",
       "| Unweighted | 0.3021732 | 0.6052234 |\n",
       "| Weighted | 0.3676040 | 0.6820414 |\n",
       "\n"
      ],
      "text/plain": [
       "            \n",
       "Kappa        lwr       upr      \n",
       "  Unweighted 0.3021732 0.6052234\n",
       "  Weighted   0.3676040 0.6820414"
      ]
     },
     "metadata": {},
     "output_type": "display_data"
    }
   ],
   "source": [
    "confint(res.k2)"
   ]
  },
  {
   "cell_type": "code",
   "execution_count": 14,
   "id": "solved-charger",
   "metadata": {},
   "outputs": [
    {
     "data": {
      "text/html": [
       "<strong>png:</strong> 2"
      ],
      "text/latex": [
       "\\textbf{png:} 2"
      ],
      "text/markdown": [
       "**png:** 2"
      ],
      "text/plain": [
       "png \n",
       "  2 "
      ]
     },
     "metadata": {},
     "output_type": "display_data"
    }
   ],
   "source": [
    "options(jupyter.plot_mimetypes = c('image/png', 'image/jpeg', 'image/svg'))\n",
    "png(filename=\"figures/notbl_ptm.png\", \n",
    "    width=640, \n",
    "    height=640, \n",
    "    pointsize=12)\n",
    "p <- agreementplot(notbl_ptm)\n",
    "dev.off()"
   ]
  },
  {
   "cell_type": "markdown",
   "id": "italian-pillow",
   "metadata": {},
   "source": [
    "### B-coefficient (Bandgiwala)"
   ]
  },
  {
   "cell_type": "code",
   "execution_count": 15,
   "id": "wooden-birth",
   "metadata": {},
   "outputs": [
    {
     "data": {
      "text/html": [
       "<style>\n",
       ".dl-inline {width: auto; margin:0; padding: 0}\n",
       ".dl-inline>dt, .dl-inline>dd {float: none; width: auto; display: inline-block}\n",
       ".dl-inline>dt::after {content: \":\\0020\"; padding-right: .5ex}\n",
       ".dl-inline>dt:not(:first-of-type) {padding-left: .5ex}\n",
       "</style><dl class=dl-inline><dt>Bangdiwala</dt><dd>0.785353535353535</dd><dt>Bangdiwala_Weighted</dt><dd>0.846681096681097</dd></dl>\n"
      ],
      "text/latex": [
       "\\begin{description*}\n",
       "\\item[Bangdiwala] 0.785353535353535\n",
       "\\item[Bangdiwala\\textbackslash{}\\_Weighted] 0.846681096681097\n",
       "\\end{description*}\n"
      ],
      "text/markdown": [
       "Bangdiwala\n",
       ":   0.785353535353535Bangdiwala_Weighted\n",
       ":   0.846681096681097\n",
       "\n"
      ],
      "text/plain": [
       "         Bangdiwala Bangdiwala_Weighted \n",
       "          0.7853535           0.8466811 "
      ]
     },
     "metadata": {},
     "output_type": "display_data"
    }
   ],
   "source": [
    "# Show the Bangdiwala agreement strength statistics\n",
    "unlist(p)[1:2]"
   ]
  },
  {
   "cell_type": "markdown",
   "id": "current-proportion",
   "metadata": {},
   "source": [
    "# 1.3. Blinded vs. pathology"
   ]
  },
  {
   "cell_type": "code",
   "execution_count": 16,
   "id": "typical-kelly",
   "metadata": {},
   "outputs": [
    {
     "data": {
      "text/plain": [
       "       Pathology\n",
       "Blinded T0-3a T3b T4a T4b\n",
       "  T0-3a    93   2  14   0\n",
       "  T3b       4   3   2   0\n",
       "  T4a       2   1   5   2\n",
       "  T4b       1   0   2   3"
      ]
     },
     "metadata": {},
     "output_type": "display_data"
    }
   ],
   "source": [
    "# Not blinded vs. patholohical examination\n",
    "bl_ptm <- with(ptm, ctable(TEST2BL, TEST3HP))$cross_table[1:4,1:4]\n",
    "dimnames(bl_ptm) <- list(\n",
    "  Blinded = c(\"T0-3a\", \"T3b\", \"T4a\", \"T4b\"),\n",
    "  Pathology = c(\"T0-3a\", \"T3b\", \"T4a\", \"T4b\")\n",
    ")\n",
    "bl_ptm"
   ]
  },
  {
   "cell_type": "code",
   "execution_count": 17,
   "id": "searching-prague",
   "metadata": {},
   "outputs": [
    {
     "data": {
      "text/plain": [
       "            value     ASE     z  Pr(>|z|)\n",
       "Unweighted 0.4037 0.07744 5.213 1.854e-07\n",
       "Weighted   0.4903 0.08177 5.997 2.015e-09\n",
       "\n",
       "Weights:\n",
       "          [,1]      [,2]      [,3]      [,4]\n",
       "[1,] 1.0000000 0.6666667 0.3333333 0.0000000\n",
       "[2,] 0.6666667 1.0000000 0.6666667 0.3333333\n",
       "[3,] 0.3333333 0.6666667 1.0000000 0.6666667\n",
       "[4,] 0.0000000 0.3333333 0.6666667 1.0000000"
      ]
     },
     "metadata": {},
     "output_type": "display_data"
    }
   ],
   "source": [
    "# Computing kappa\n",
    "res.k3 <- Kappa(bl_ptm, weights='Equal-Spacing')\n",
    "summary(res.k3)"
   ]
  },
  {
   "cell_type": "markdown",
   "id": "imposed-cooper",
   "metadata": {},
   "source": [
    "### Confidence intervals"
   ]
  },
  {
   "cell_type": "code",
   "execution_count": 19,
   "id": "sonic-logic",
   "metadata": {},
   "outputs": [
    {
     "data": {
      "text/html": [
       "<table class=\"dataframe\">\n",
       "<caption>A matrix: 2 × 2 of type dbl</caption>\n",
       "<thead>\n",
       "\t<tr><th></th><th scope=col>lwr</th><th scope=col>upr</th></tr>\n",
       "</thead>\n",
       "<tbody>\n",
       "\t<tr><th scope=row>Unweighted</th><td>0.2519537</td><td>0.5555218</td></tr>\n",
       "\t<tr><th scope=row>Weighted</th><td>0.3300692</td><td>0.6505964</td></tr>\n",
       "</tbody>\n",
       "</table>\n"
      ],
      "text/latex": [
       "A matrix: 2 × 2 of type dbl\n",
       "\\begin{tabular}{r|ll}\n",
       "  & lwr & upr\\\\\n",
       "\\hline\n",
       "\tUnweighted & 0.2519537 & 0.5555218\\\\\n",
       "\tWeighted & 0.3300692 & 0.6505964\\\\\n",
       "\\end{tabular}\n"
      ],
      "text/markdown": [
       "\n",
       "A matrix: 2 × 2 of type dbl\n",
       "\n",
       "| <!--/--> | lwr | upr |\n",
       "|---|---|---|\n",
       "| Unweighted | 0.2519537 | 0.5555218 |\n",
       "| Weighted | 0.3300692 | 0.6505964 |\n",
       "\n"
      ],
      "text/plain": [
       "            \n",
       "Kappa        lwr       upr      \n",
       "  Unweighted 0.2519537 0.5555218\n",
       "  Weighted   0.3300692 0.6505964"
      ]
     },
     "metadata": {},
     "output_type": "display_data"
    }
   ],
   "source": [
    "# Confidence intervals\n",
    "confint(res.k3)"
   ]
  },
  {
   "cell_type": "code",
   "execution_count": 20,
   "id": "accessible-surfing",
   "metadata": {},
   "outputs": [
    {
     "data": {
      "text/html": [
       "<strong>png:</strong> 2"
      ],
      "text/latex": [
       "\\textbf{png:} 2"
      ],
      "text/markdown": [
       "**png:** 2"
      ],
      "text/plain": [
       "png \n",
       "  2 "
      ]
     },
     "metadata": {},
     "output_type": "display_data"
    }
   ],
   "source": [
    "options(jupyter.plot_mimetypes = c('image/png', 'image/jpeg', 'image/svg'))\n",
    "png(filename=\"bl_ptm.png\", \n",
    "    width=640, \n",
    "    height=640, \n",
    "    pointsize=12)\n",
    "p <- agreementplot(bl_ptm)\n",
    "dev.off()"
   ]
  },
  {
   "cell_type": "markdown",
   "id": "direct-painting",
   "metadata": {},
   "source": [
    "### B-coefficient (Bandgiwala)"
   ]
  },
  {
   "cell_type": "code",
   "execution_count": 18,
   "id": "false-affiliation",
   "metadata": {},
   "outputs": [
    {
     "data": {
      "text/html": [
       "<style>\n",
       ".dl-inline {width: auto; margin:0; padding: 0}\n",
       ".dl-inline>dt, .dl-inline>dd {float: none; width: auto; display: inline-block}\n",
       ".dl-inline>dt::after {content: \":\\0020\"; padding-right: .5ex}\n",
       ".dl-inline>dt:not(:first-of-type) {padding-left: .5ex}\n",
       "</style><dl class=dl-inline><dt>Bangdiwala</dt><dd>0.785353535353535</dd><dt>Bangdiwala_Weighted</dt><dd>0.846681096681097</dd></dl>\n"
      ],
      "text/latex": [
       "\\begin{description*}\n",
       "\\item[Bangdiwala] 0.785353535353535\n",
       "\\item[Bangdiwala\\textbackslash{}\\_Weighted] 0.846681096681097\n",
       "\\end{description*}\n"
      ],
      "text/markdown": [
       "Bangdiwala\n",
       ":   0.785353535353535Bangdiwala_Weighted\n",
       ":   0.846681096681097\n",
       "\n"
      ],
      "text/plain": [
       "         Bangdiwala Bangdiwala_Weighted \n",
       "          0.7853535           0.8466811 "
      ]
     },
     "metadata": {},
     "output_type": "display_data"
    }
   ],
   "source": [
    "# Show the Bangdiwala agreement strength statistics\n",
    "unlist(p)[1:2]"
   ]
  },
  {
   "cell_type": "markdown",
   "id": "charitable-theory",
   "metadata": {},
   "source": [
    "# 2. Binary tests comparison"
   ]
  },
  {
   "cell_type": "markdown",
   "id": "precise-nomination",
   "metadata": {},
   "source": [
    "[DTComPair](https://cran.r-project.org/web/packages/DTComPair/DTComPair.pdf)  \n",
    "Significance level **alpha = 0.05**.\n",
    "- **sensitivity** - sensitivity \n",
    "- **specificity** - specificity \n",
    "- **ppv** - positive predictive value\n",
    "- **npv** -  negative predictive value (est)\n",
    "- **pdlr** - positive diagnostic likelihood ratio\n",
    "- **ndlr** - negative diagnostic likelihood ratio  \n",
    "All values have estimate (Est.), standard error (SE), lower and upper confidence intervals (Lower CL & Upper CL). "
   ]
  },
  {
   "cell_type": "markdown",
   "id": "wrong-threshold",
   "metadata": {},
   "source": [
    "## 2.1. Comparing two tests with 3a as locally advanced"
   ]
  },
  {
   "cell_type": "code",
   "execution_count": 19,
   "id": "existing-teens",
   "metadata": {},
   "outputs": [],
   "source": [
    "la_ctable <- my_data[, 4:6] - 1"
   ]
  },
  {
   "cell_type": "code",
   "execution_count": 23,
   "id": "indirect-subscriber",
   "metadata": {},
   "outputs": [],
   "source": [
    "tab <- tab.paired(d=LATEST3, y1=LATEST1, y2=LATEST2, data=la_ctable, testnames=c(\"Nonblinded\", \"Blinded\"))"
   ]
  },
  {
   "cell_type": "code",
   "execution_count": 24,
   "id": "fixed-minute",
   "metadata": {},
   "outputs": [
    {
     "data": {
      "text/plain": [
       "Diagnostic accuracy of test 'Nonblinded'\n",
       "\n",
       "(Estimates, standard errors and 95%-confidence intervals)\n",
       "\n",
       "                 Est.         SE  Lower CL  Upper CL\n",
       "Sensitivity 0.4074074 0.06686451 0.2763554 0.5384594\n",
       "Specificity 0.9500000 0.02436699 0.9022416 0.9977584\n",
       "PPV         0.8461538 0.07075894 0.7074689 0.9848388\n",
       "NPV         0.7037037 0.04393859 0.6175856 0.7898218\n",
       "\n",
       "           Est.  SE (log)  Lower CL   Upper CL\n",
       "PDLR  8.1481481 0.5142334 2.9740114 22.3241644\n",
       "NDLR  0.6237817 0.1157125 0.4972079  0.7825773\n",
       "\n",
       "----------------------------------------------------------\n",
       "Diagnostic accuracy of test 'Blinded'\n",
       "\n",
       "(Estimates, standard errors and 95%-confidence intervals)\n",
       "\n",
       "                 Est.         SE  Lower CL  Upper CL\n",
       "Sensitivity 0.3888889 0.06634008 0.2588647 0.5189131\n",
       "Specificity 0.9500000 0.02436699 0.9022416 0.9977584\n",
       "PPV         0.8400000 0.07332121 0.6962931 0.9837069\n",
       "NPV         0.6972477 0.04400723 0.6109951 0.7835003\n",
       "\n",
       "           Est.  SE (log)  Lower CL   Upper CL\n",
       "PDLR  7.7777778 0.5163337 2.8271670 21.3973310\n",
       "NDLR  0.6432749 0.1115455 0.5169504  0.8004686"
      ]
     },
     "metadata": {},
     "output_type": "display_data"
    }
   ],
   "source": [
    "acc.paired(tab=tab, alpha=0.05)"
   ]
  },
  {
   "cell_type": "markdown",
   "id": "timely-boxing",
   "metadata": {},
   "source": [
    "## 2.2. Comparing two tests with 3a as not locally advanced"
   ]
  },
  {
   "cell_type": "code",
   "execution_count": 25,
   "id": "extreme-stone",
   "metadata": {},
   "outputs": [],
   "source": [
    "nola_ctable <-read_excel(\"./data/BIMJF3aNOLA.xlsx\")[, 4:6] - 1 #pT3a as not locally advanced"
   ]
  },
  {
   "cell_type": "code",
   "execution_count": 26,
   "id": "creative-wells",
   "metadata": {},
   "outputs": [],
   "source": [
    "tab <- tab.paired(d=LATEST3, y1=LATEST1, y2=LATEST2, data=nola_ctable, testnames=c(\"Nonblinded\", \"Blinded\"))"
   ]
  },
  {
   "cell_type": "code",
   "execution_count": 27,
   "id": "familiar-prophet",
   "metadata": {},
   "outputs": [
    {
     "data": {
      "text/plain": [
       "Diagnostic accuracy of test 'Nonblinded'\n",
       "\n",
       "(Estimates, standard errors and 95%-confidence intervals)\n",
       "\n",
       "                 Est.         SE  Lower CL  Upper CL\n",
       "Sensitivity 0.5588235 0.08515380 0.3919251 0.7257219\n",
       "Specificity 0.9300000 0.02551470 0.8799921 0.9800079\n",
       "PPV         0.7307692 0.08698929 0.5602734 0.9012651\n",
       "NPV         0.8611111 0.03327756 0.7958883 0.9263339\n",
       "\n",
       "           Est.  SE (log)  Lower CL   Upper CL\n",
       "PDLR  7.9831933 0.3950658 3.6804088 17.3163849\n",
       "NDLR  0.4743833 0.1949554 0.3237301  0.6951455\n",
       "\n",
       "----------------------------------------------------------\n",
       "Diagnostic accuracy of test 'Blinded'\n",
       "\n",
       "(Estimates, standard errors and 95%-confidence intervals)\n",
       "\n",
       "                 Est.         SE  Lower CL  Upper CL\n",
       "Sensitivity 0.5294118 0.08560081 0.3616373 0.6971863\n",
       "Specificity 0.9300000 0.02551470 0.8799921 0.9800079\n",
       "PPV         0.7200000 0.08979978 0.5439957 0.8960043\n",
       "NPV         0.8532110 0.03389704 0.7867740 0.9196480\n",
       "\n",
       "           Est.  SE (log)  Lower CL   Upper CL\n",
       "PDLR  7.5630252 0.3987492 3.4616217 16.5238595\n",
       "NDLR  0.5060089 0.1839590 0.3528352  0.7256786"
      ]
     },
     "metadata": {},
     "output_type": "display_data"
    }
   ],
   "source": [
    "acc.paired(tab=tab, alpha=0.05)"
   ]
  },
  {
   "cell_type": "markdown",
   "id": "500f70c5",
   "metadata": {},
   "source": [
    "## 2.3. Parameters for imaging study vs. histopathologic examination"
   ]
  },
  {
   "cell_type": "markdown",
   "id": "02cc872c",
   "metadata": {},
   "source": [
    "### 2.3.1. pT3a as locally advanced"
   ]
  },
  {
   "cell_type": "code",
   "execution_count": 52,
   "id": "016293a0",
   "metadata": {},
   "outputs": [],
   "source": [
    "la_imgtable <-read_excel(\"./data/IMGHP3aLA.xlsx\") - 1 "
   ]
  },
  {
   "cell_type": "code",
   "execution_count": 58,
   "id": "125baeed",
   "metadata": {},
   "outputs": [],
   "source": [
    "tab <- tab.1test(d=TEST2HP, y=TEST1IMG, data=la_imgtable, testname=\"Imaging\")"
   ]
  },
  {
   "cell_type": "code",
   "execution_count": 59,
   "id": "472a56d6",
   "metadata": {},
   "outputs": [
    {
     "data": {
      "text/plain": [
       "Diagnostic accuracy of test 'Imaging'\n",
       "\n",
       "(Estimates, standard errors and 95%-confidence intervals)\n",
       "\n",
       "                 Est.         SE  Lower CL  Upper CL\n",
       "Sensitivity 0.6190476 0.07493293 0.4721818 0.7659135\n",
       "Specificity 0.7068966 0.05976878 0.5897519 0.8240412\n",
       "PPV         0.6046512 0.07456044 0.4585154 0.7507869\n",
       "NPV         0.7192982 0.05951681 0.6026474 0.8359490\n",
       "\n",
       "           Est.  SE (log)  Lower CL  Upper CL\n",
       "PDLR  2.1120448 0.2371374 1.3269403 3.3616685\n",
       "NDLR  0.5389082 0.2141012 0.3542187 0.8198948"
      ]
     },
     "metadata": {},
     "output_type": "display_data"
    }
   ],
   "source": [
    "acc.1test(tab=tab)"
   ]
  },
  {
   "cell_type": "code",
   "execution_count": 60,
   "id": "5397f3c7",
   "metadata": {},
   "outputs": [
    {
     "data": {
      "text/plain": [
       "Binary diagnostic test 'Imaging'\n",
       "\n",
       "          Diseased Non-diseased Total\n",
       "Test pos.       26           17    43\n",
       "Test neg.       16           41    57\n",
       "Total           42           58   100"
      ]
     },
     "metadata": {},
     "output_type": "display_data"
    }
   ],
   "source": [
    "tab"
   ]
  },
  {
   "cell_type": "markdown",
   "id": "6ff4b5df",
   "metadata": {},
   "source": [
    "### 2.3.1. pT3a as not locally advanced"
   ]
  },
  {
   "cell_type": "code",
   "execution_count": 65,
   "id": "6885064b",
   "metadata": {},
   "outputs": [],
   "source": [
    "nola_imgtable <-read_excel(\"./data/IMGHP3aNOLA.xlsx\") - 1"
   ]
  },
  {
   "cell_type": "code",
   "execution_count": 66,
   "id": "e27e970d",
   "metadata": {},
   "outputs": [],
   "source": [
    "tab <- tab.1test(d=TEST2HP, y=TEST1IMG, data=nola_imgtable, testname=\"Imaging\")"
   ]
  },
  {
   "cell_type": "code",
   "execution_count": 67,
   "id": "841461ab",
   "metadata": {},
   "outputs": [
    {
     "data": {
      "text/plain": [
       "Diagnostic accuracy of test 'Imaging'\n",
       "\n",
       "(Estimates, standard errors and 95%-confidence intervals)\n",
       "\n",
       "                 Est.         SE  Lower CL  Upper CL\n",
       "Sensitivity 0.6296296 0.09293490 0.4474806 0.8117787\n",
       "Specificity 0.6438356 0.05604686 0.5339858 0.7536855\n",
       "PPV         0.3953488 0.07456044 0.2492131 0.5414846\n",
       "NPV         0.8245614 0.05037750 0.7258233 0.9232995\n",
       "\n",
       "           Est.  SE (log) Lower CL  Upper CL\n",
       "PDLR  1.7678063 0.2157531 1.158205 2.6982615\n",
       "NDLR  0.5752561 0.2655954 0.341811 0.9681362"
      ]
     },
     "metadata": {},
     "output_type": "display_data"
    }
   ],
   "source": [
    "acc.1test(tab=tab)"
   ]
  },
  {
   "cell_type": "code",
   "execution_count": 68,
   "id": "72388c96",
   "metadata": {},
   "outputs": [
    {
     "data": {
      "text/plain": [
       "Binary diagnostic test 'Imaging'\n",
       "\n",
       "          Diseased Non-diseased Total\n",
       "Test pos.       17           26    43\n",
       "Test neg.       10           47    57\n",
       "Total           27           73   100"
      ]
     },
     "metadata": {},
     "output_type": "display_data"
    }
   ],
   "source": [
    "tab"
   ]
  },
  {
   "cell_type": "markdown",
   "id": "cardiac-cover",
   "metadata": {},
   "source": [
    "# Citations"
   ]
  },
  {
   "cell_type": "markdown",
   "id": "grateful-profit",
   "metadata": {},
   "source": [
    "1. R Core Team (2020). R: A language and environment for statistical computing. R Foundation for Statistical Computing, Vienna, Austria. URL https://www.R-project.org/.\n",
    "2. Hadley Wickham and Jennifer Bryan (2019). readxl: Read Excel Files. R package version 1.3.1. https://CRAN.R-project.org/package=readxl\n",
    "3. Hadley Wickham, Romain François, Lionel Henry and Kirill Müller (2021). dplyr: A Grammar of Data Manipulation. R package version 1.0.5. https://CRAN.R-project.org/package=dplyr\n",
    "4. Christian Stock, Thomas Hielscher (2014). DTComPair: comparison of binary diagnostic tests in a paired study design. R package version 1.0.3. URL: http://CRAN.R-project.org/package=DTComPair\n",
    "5. Dominic Comtois (2021). summarytools: Tools to Quickly and Neatly Summarize Data. R package version 0.9.9.\n",
    "6.  David Meyer, Achim Zeileis, and Kurt Hornik (2020). vcd: Visualizing Categorical Data. R package version 1.4-8.\n"
   ]
  }
 ],
 "metadata": {
  "kernelspec": {
   "display_name": "R",
   "language": "R",
   "name": "ir"
  },
  "language_info": {
   "codemirror_mode": "r",
   "file_extension": ".r",
   "mimetype": "text/x-r-source",
   "name": "R",
   "pygments_lexer": "r",
   "version": "4.1.2"
  }
 },
 "nbformat": 4,
 "nbformat_minor": 5
}
